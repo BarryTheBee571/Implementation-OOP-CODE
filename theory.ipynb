{
 "cells": [
  {
   "attachments": {},
   "cell_type": "markdown",
   "metadata": {},
   "source": [
    "### **1. Explain why programmers use stubs**\n",
    "---"
   ]
  },
  {
   "attachments": {},
   "cell_type": "markdown",
   "metadata": {},
   "source": [
    "Programmers use stubs as temporary versions of functions or modules while developing software. These stubs act as placeholders when certain parts of a program aren’t ready yet. They are useful for unit testing, where developers check if a specific function works correctly without needing every part of the system to be finished. Stubs also help teams work in parallel, allowing one group to keep building their section while another finishes a required component. Additionally, when dealing with complex systems, programmers use stubs to simulate interactions with external services or complicated logic, making testing easier."
   ]
  },
  {
   "attachments": {},
   "cell_type": "markdown",
   "metadata": {},
   "source": [
    "### **2. Explain why version control is important**\n",
    "---"
   ]
  },
  {
   "attachments": {},
   "cell_type": "markdown",
   "metadata": {},
   "source": [
    "Version control is a system that keeps track of all the changes made to a program. It’s important because it allows developers to undo mistakes, restore previous versions, and see how the project has evolved. Since many developers often work on the same code, version control helps avoid conflicts by allowing multiple people to edit different sections without overwriting each other’s work. It also enables teams to create branches, which means they can test new features separately before merging them into the main project. Overall, version control keeps development organized and prevents accidental data loss."
   ]
  },
  {
   "attachments": {},
   "cell_type": "markdown",
   "metadata": {},
   "source": [
    "### **3. Explain code optimisation in software engineering**\n",
    "---\n"
   ]
  },
  {
   "attachments": {},
   "cell_type": "markdown",
   "metadata": {},
   "source": [
    "Code optimization is the process of making a program run faster and use less memory. One way to do this is by choosing efficient algorithms, which means using smarter methods to solve problems with fewer steps. Developers also try to reduce memory usage by removing unnecessary variables and using better ways to store data. Another strategy is avoiding redundant calculations, which means not repeating work that has already been done. Additionally, compilers (which convert code into a format the computer can run) often apply automatic improvements, like reordering instructions to make execution smoother."
   ]
  },
  {
   "attachments": {},
   "cell_type": "markdown",
   "metadata": {},
   "source": [
    "### **4. Explain how the following systems handle message passing (complete(a) and (b) separately)**\n",
    "---"
   ]
  },
  {
   "attachments": {},
   "cell_type": "markdown",
   "metadata": {},
   "source": [
    "#### **a.**"
   ]
  },
  {
   "cell_type": "code",
   "execution_count": 2,
   "metadata": {},
   "outputs": [
    {
     "name": "stdout",
     "output_type": "stream",
     "text": [
      "Alice attacks Bob for 25 damage!\n",
      "Bob's health is now 75\n"
     ]
    }
   ],
   "source": [
    "class Player:\n",
    "    def __init__(self, name, health):\n",
    "        self.name = name\n",
    "        self.health = health\n",
    "\n",
    "    def attack(self, other_player, damage):\n",
    "        print(f\"{self.name} attacks {other_player.name} for {damage} damage!\")\n",
    "        other_player.take_damage(damage)\n",
    "\n",
    "    def take_damage(self, damage):\n",
    "        self.health -= damage\n",
    "        print(f\"{self.name}'s health is now {self.health}\")\n",
    "\n",
    "\n",
    "# Create two Player objects\n",
    "alice = Player(\"Alice\", 100)\n",
    "bob = Player(\"Bob\", 100)\n",
    "\n",
    "# One player sends a message (method call) to another\n",
    "alice.attack(bob, 25)"
   ]
  },
  {
   "attachments": {},
   "cell_type": "markdown",
   "metadata": {},
   "source": [
    "1. Alice calls attack(bob, 25). This sends a message from Alice to Bob, informing Bob that he should take damage.\n",
    "\n",
    "2. Inside attack(), Bob’s take_damage() method is invoked. This modifies Bob’s health state.\n",
    "\n",
    "3. Bob receives the damage and updates self.health. His new health is displayed.\n",
    "---"
   ]
  },
  {
   "attachments": {},
   "cell_type": "markdown",
   "metadata": {},
   "source": [
    "#### **b.**"
   ]
  },
  {
   "cell_type": "code",
   "execution_count": 3,
   "metadata": {},
   "outputs": [
    {
     "name": "stdout",
     "output_type": "stream",
     "text": [
      "Lara opens the chest and finds 50 gold!\n",
      "Lara now has 50 gold.\n",
      "The chest is already empty.\n"
     ]
    }
   ],
   "source": [
    "class Chest:\n",
    "    def __init__(self, gold_amount):\n",
    "        self.gold_amount = gold_amount\n",
    "        self.is_open = False\n",
    "\n",
    "    def open(self, player):\n",
    "        if not self.is_open:\n",
    "            print(f\"{player.name} opens the chest and finds {self.gold_amount} gold!\")\n",
    "            player.collect_gold(self.gold_amount)\n",
    "            self.is_open = True\n",
    "        else:\n",
    "            print(\"The chest is already empty.\")\n",
    "\n",
    "class Player:\n",
    "    def __init__(self, name):\n",
    "        self.name = name\n",
    "        self.gold = 0\n",
    "\n",
    "    def open_chest(self, chest):\n",
    "        chest.open(self)  # Message passing: player sends message to chest\n",
    "\n",
    "    def collect_gold(self, amount):\n",
    "        self.gold += amount\n",
    "        print(f\"{self.name} now has {self.gold} gold.\")\n",
    "\n",
    "\n",
    "# Creating objects\n",
    "player = Player(\"Lara\")\n",
    "treasure_chest = Chest(50)\n",
    "\n",
    "# Interactions using message passing\n",
    "player.open_chest(treasure_chest)   # Lara opens chest, chest gives her gold\n",
    "player.open_chest(treasure_chest)   # Trying to open again"
   ]
  },
  {
   "attachments": {},
   "cell_type": "markdown",
   "metadata": {},
   "source": [
    "1. Player calls open_chest(treasure_chest). The player object sends a message to the chest to open it.\n",
    "\n",
    "2. Inside open(), the chest determines if it contains gold. If unopened, it triggers player.collect_gold(self.gold_amount).\n",
    "\n",
    "3. Player receives the message and updates self.gold. The player's state is modified, and their new gold count is displayed.\n",
    "\n",
    "4. Subsequent attempts show the chest is empty. The message system prevents redundant interactions.\n",
    "---"
   ]
  }
 ],
 "metadata": {
  "kernelspec": {
   "display_name": "Python 3",
   "language": "python",
   "name": "python3"
  },
  "language_info": {
   "codemirror_mode": {
    "name": "ipython",
    "version": 3
   },
   "file_extension": ".py",
   "mimetype": "text/x-python",
   "name": "python",
   "nbconvert_exporter": "python",
   "pygments_lexer": "ipython3",
   "version": "3.12.8"
  },
  "orig_nbformat": 4
 },
 "nbformat": 4,
 "nbformat_minor": 2
}
